{
  "nbformat": 4,
  "nbformat_minor": 0,
  "metadata": {
    "colab": {
      "name": "Untitled1.ipynb",
      "provenance": [],
      "collapsed_sections": []
    },
    "kernelspec": {
      "name": "python3",
      "display_name": "Python 3"
    }
  },
  "cells": [
    {
      "cell_type": "markdown",
      "metadata": {
        "id": "9yqvhvaSGGsJ"
      },
      "source": [
        ""
      ]
    },
    {
      "cell_type": "code",
      "metadata": {
        "colab": {
          "base_uri": "https://localhost:8080/",
          "height": 195
        },
        "id": "S0GQ6vY3GG5m",
        "outputId": "2cae4305-63d5-4aef-d282-650afd7df9e4"
      },
      "source": [
        "# 1.1    Tuples\r\n",
        "\r\n",
        "# 1.  Create the tuple namedappstuplewith the string elements ”Google”, ”Facebook”,”Amazon”, ”Netflix”, ”AirBnB”, ”Instagram”.\r\n",
        "apps_tuple = (\"Google\",\"Facebook\",\"Amazon\",\"Netflix\",\"AirBnB\",\"Instagram\")\r\n",
        "# 2.  Extract the second element by using its indexandthe last element by using itsneg-ativeindex.\r\n",
        "a=apps_tuple[1]\r\n",
        "b=apps_tuple[-3]\r\n",
        "# 3.  Slice the elements from ”Facebook” to ”Netflix”inclusiveon both ends.\r\n",
        "c=apps_tuple[1:4]\r\n",
        "# 4.  Try appending the element ”Messenger” to the tuple.  What do you observe?  Why?\\\r\n",
        "d=apps_tuple.append(\"Messenger\")"
      ],
      "execution_count": null,
      "outputs": [
        {
          "output_type": "error",
          "ename": "AttributeError",
          "evalue": "ignored",
          "traceback": [
            "\u001b[0;31m---------------------------------------------------------------------------\u001b[0m",
            "\u001b[0;31mAttributeError\u001b[0m                            Traceback (most recent call last)",
            "\u001b[0;32m<ipython-input-26-3746a15a1f94>\u001b[0m in \u001b[0;36m<module>\u001b[0;34m()\u001b[0m\n\u001b[1;32m      9\u001b[0m \u001b[0mapps_tuple\u001b[0m\u001b[0;34m[\u001b[0m\u001b[0;36m1\u001b[0m\u001b[0;34m:\u001b[0m\u001b[0;36m4\u001b[0m\u001b[0;34m]\u001b[0m\u001b[0;34m\u001b[0m\u001b[0;34m\u001b[0m\u001b[0m\n\u001b[1;32m     10\u001b[0m \u001b[0;31m# 4.  Try appending the element ”Messenger” to the tuple.  What do you observe?  Why?\\\u001b[0m\u001b[0;34m\u001b[0m\u001b[0;34m\u001b[0m\u001b[0;34m\u001b[0m\u001b[0m\n\u001b[0;32m---> 11\u001b[0;31m \u001b[0mapps_tuple\u001b[0m\u001b[0;34m.\u001b[0m\u001b[0mappend\u001b[0m\u001b[0;34m(\u001b[0m\u001b[0;34m\"Messenger\"\u001b[0m\u001b[0;34m)\u001b[0m\u001b[0;34m\u001b[0m\u001b[0;34m\u001b[0m\u001b[0m\n\u001b[0m",
            "\u001b[0;31mAttributeError\u001b[0m: 'tuple' object has no attribute 'append'"
          ]
        }
      ]
    },
    {
      "cell_type": "code",
      "metadata": {
        "colab": {
          "base_uri": "https://localhost:8080/"
        },
        "id": "N2hjPAKVJdTb",
        "outputId": "4df9930d-414a-46da-f801-1aa582720e4f"
      },
      "source": [
        "# 1.2    Lists\r\n",
        "\r\n",
        "# 1.  Define the list apps_list with the same elements as the tuple above.\r\n",
        "apps_list=[\"Google\",\"Facebook\",\"Amazon\",\"Netflix\",\"AirBnB\",\"Instagram\"]\r\n",
        "# 2.  Slice the first three elements of the list with theshorthandsyntax, i.e.notby typingexplicitly all the indexes 0, 1, and 2; use the symbol:instead.\r\n",
        "a=apps_list[:3]\r\n",
        "# 4.  Append the element ’Messenger’ to the end of the list and insert the element ’Youtube’at index 1.\r\n",
        "b=apps_list.append(\"Messenger\")\r\n",
        "c=apps_list.insert(1,\"Youtube\")\r\n",
        "# 5.  Remove element ’Facebook’ and confirm with the function in whether ’Facebook’ has been removed from the list.\r\n",
        "d=apps_list.remove(\"Facebook\")\r\n",
        "e=apps_list.__contains__(\"Facebook\")\r\n",
        "# 6.  Concatenate the last list with the list [’Linkedin’, ’Twitter’].\r\n",
        "new_list=[\"Linkedin\", \"Twitter\"]\r\n",
        "apps_list=apps_list+new_list"
      ],
      "execution_count": null,
      "outputs": [
        {
          "output_type": "stream",
          "text": [
            "['Google', 'Youtube', 'Amazon', 'Netflix', 'AirBnB', 'Instagram', 'Messenger', 'Linkedin', 'Twitter']\n"
          ],
          "name": "stdout"
        }
      ]
    },
    {
      "cell_type": "code",
      "metadata": {
        "id": "eKKrHrRgJ94Y"
      },
      "source": [
        "# 1.3    Dicts\r\n",
        "\r\n",
        "# 1.  Create the dict named apps_dict with the same values as in 1.1.1.  and keys:  app0,app1, etc.\r\n",
        "apps_dict=dict(enumerate(apps_tuple))\r\n",
        "apps_dict=dict([(\"app\"+str(k),v) for k,v in apps_dict.items()])\r\n",
        "\r\n",
        "# 2.  Access the element with key app1; then replace its value with ’Youtube’.\r\n",
        "apps_dict[\"app1\"]=\"Youtube\"\r\n",
        "\r\n",
        "# 3.  Add a new key-value pair:  app6-Messenger.\r\n",
        "apps_dict[\"app6\"]=\"Messenger\"\r\n",
        "\r\n",
        "# 4.  What does the syntax:  appsdict[”app1”]=”Messenger” do?\r\n",
        "# Add a new key-value pair:  app6-Messenger.\r\n",
        "\r\n",
        "# What does the syntax:  appsdict[”App1”]=”Facebook” do?  Why?\r\n",
        "# Access the element with key app1; then replace its value with ’Youtube’.\r\n",
        "\r\n",
        "# 6.  What does the syntax:  del appsdict[”App1”] do?\r\n",
        "del apps_dict[\"app1\"]\r\n",
        "# It would delete the second pair in apps_dict"
      ],
      "execution_count": null,
      "outputs": []
    },
    {
      "cell_type": "code",
      "metadata": {
        "id": "YClw2yLZLGdZ"
      },
      "source": [
        "# 1.4    List comprehension\r\n",
        "# 1.  Create the list namedvalueswith integers:  7, 12, 9, 18, 15.\r\n",
        "value=[7,12,9,18,15]\r\n",
        "\r\n",
        "# 2.  Create a list comprehension that takes the objectvaluesand returns the square ofevery value.\r\n",
        "svalue=[x*x for x in value]"
      ],
      "execution_count": null,
      "outputs": []
    },
    {
      "cell_type": "code",
      "metadata": {
        "id": "ZTtnbNuwLMaZ"
      },
      "source": [
        "import numpy as np\r\n",
        "import pandas as pd\r\n",
        "# 1.5    Functions and control flow\r\n",
        "\r\n",
        "# 1.  Generate  a  sample  of  10  random  integer  numbers  between  600  and  900  (hint:   useNumpy’s randomintegers function).\r\n",
        "simple=np.random.randint(600,900,10)\r\n",
        "\r\n",
        "# 2.  Create a function called credit_score that reads the sample and returns the output’Low’ when the input is [600, 699], ’Medium’ when in [700, 799] and ’High’ when in[800, 900].\r\n",
        "def credit_score(simple):\r\n",
        "    if simple in range(600,700):\r\n",
        "        output =\"Low\"\r\n",
        "        return output\r\n",
        "    elif simple in range(700,800):\r\n",
        "        output=\"Medium\"\r\n",
        "        return output\r\n",
        "    elif simple in range(800,901):\r\n",
        "        output = \"High\"\r\n",
        "        return output"
      ],
      "execution_count": null,
      "outputs": []
    },
    {
      "cell_type": "code",
      "metadata": {
        "id": "bWexAsshLTA5"
      },
      "source": [
        "import numpy as np\r\n",
        "import pandas as pd\r\n",
        "# 2.1    Matrix calculations\r\n",
        "\r\n",
        "# 1.  Create matrices A and B as numpy arrays and calculate2A, -3BandA+B\r\n",
        "A=np.array([[2,1],\r\n",
        "            [1,1],\r\n",
        "            [2,3]])\r\n",
        "B=np.array([[-4,1],\r\n",
        "            [3,-1],\r\n",
        "            [-2,1]])\r\n",
        "scenario1=2*A\r\n",
        "scenario2=-3*B\r\n",
        "scenario3=A+B\r\n",
        "\r\n",
        "# 2.  Create matrices A and B as numpy arrays and calculateA*Band theinverse of B\r\n",
        "A=np.array([[2,-6],[-4,0],[1,5]])\r\n",
        "B=np.array([[1,1],[2,3]])\r\n",
        "scenario4=np.dot(A,B)\r\n",
        "scenario5=np.linalg.inv(B)\r\n",
        "\r\n",
        "# 3.  Replace the values of the elements with abs(value)≥3 with the value 3.  Also, calculatethedeterminantof the original matrix A\r\n",
        "A=np.array([[1,0,4,1],\r\n",
        "            [-2,1,-3,2],\r\n",
        "            [0,0,0,2],\r\n",
        "            [3,2,1,-1]])\r\n",
        "B=np.where(A>=3,3,A)\r\n",
        "C=np.linalg.det(A)"
      ],
      "execution_count": null,
      "outputs": []
    },
    {
      "cell_type": "code",
      "metadata": {
        "id": "8sf2e_rULXMZ"
      },
      "source": [
        "import numpy as np\r\n",
        "import pandas as pd\r\n",
        "# 2.2    Norms and eigenvalues\r\n",
        "\r\n",
        "# 1.  Calculate themaximumandEuclidean normof the three vectors:\r\n",
        "x1=np.array([1,-2,3]).transpose()\r\n",
        "x2=np.array([2,0,-1,2]).transpose()\r\n",
        "x3=np.array([0,1,-4,2,-1]).transpose()\r\n",
        "max1=x1.max()\r\n",
        "max2=x2.max()\r\n",
        "max3=x3.max()\r\n",
        "Enorm1=np.linalg.norm(x1)\r\n",
        "Enorm2=np.linalg.norm(x2)\r\n",
        "Enorm3=np.linalg.norm(x3)\r\n",
        "\r\n",
        "# 2.  Calculate thel2andl∞normsof the matrices:\r\n",
        "A1=np.array([[1,-2],\r\n",
        "             [3,4]])\r\n",
        "A2=np.array([[1,0,2],\r\n",
        "             [0,1,-1],\r\n",
        "             [-1,1,1]])\r\n",
        "A1l2=np.linalg.norm(A1,2)\r\n",
        "A2l2=np.linalg.norm(A2,2)\r\n",
        "A1linf=np.linalg.norm(A1,np.inf)\r\n",
        "A2linf=np.linalg.norm(A2,np.inf)\r\n",
        "\r\n",
        "# 3.  Calculate theeigenvaluesof the matrix:\r\n",
        "A=np.array([[-2,-2,3],\r\n",
        "            [-10,-1,6],\r\n",
        "            [10,-2,-9]])\r\n",
        "eigenvalue=np.linalg.eigvals(A)"
      ],
      "execution_count": null,
      "outputs": []
    },
    {
      "cell_type": "code",
      "metadata": {
        "id": "0Ab4htDCLcGJ"
      },
      "source": [
        "import numpy as np\r\n",
        "import pandas as pd\r\n",
        "import matplotlib.pyplot as plt\r\n",
        "import math\r\n",
        "# 3    Pandas manipulations\r\n",
        "\r\n",
        "# 1.  Import fileGasprices.xlsas a pandas DataFrame.  Create a function that replacesNaN with the interpolation between the adjacent values (i.e.  the prior and the subse-quent to the NaN).\r\n",
        "a = pd.read_excel(\"/content/Gas_prices.xlsx\")\r\n",
        "a=a.interpolate(method=\"linear\", limit_direction=\"both\", axis=0)\r\n",
        "\r\n",
        "#2.  Find the index, the date and the value of theminandmaxgas price.\r\n",
        "b=a.sort_values(by=[\"Price_pl\"])\r\n",
        "maxindex=b.index[-1]\r\n",
        "minindex=b.index[0]\r\n",
        "maxdate=b[\"Date\"][81]\r\n",
        "mindate=b[\"Date\"][0]\r\n",
        "maxvalue=b[\"Price_pl\"][81]\r\n",
        "minvalue=b[\"Price_pl\"][0]\r\n",
        "\r\n",
        "#3.  Calculate the following descriptive statistics:  mean,  median,  quantile,  skewness  andkurtosis.\r\n",
        "meanprice=a.mean(axis=0)\r\n",
        "medianprice=a.median(axis=0)\r\n",
        "quantileprice=a.quantile()\r\n",
        "skewnessprice=a.skew(axis=0)\r\n",
        "kurtosisprice=a.kurtosis(axis=0)\r\n",
        "\r\n",
        "#4.  Create two new columns with the Month and Year.  Pivot the table by Month(index)and Year(columns).  Calculate and plot the monthly average gas price.  This shouldgive you one line per year.\r\n",
        "\r\n",
        "a[\"Date\"]=pd.to_datetime(a[\"Date\"])\r\n",
        "year = a[\"Date\"].dt.year\r\n",
        "month = a[\"Date\"].dt.month\r\n",
        "a[\"year\"]=year\r\n",
        "a[\"month\"]=month\r\n",
        "a=a.set_index(\"month\")\r\n",
        "\r\n",
        "monthlyaverage=a.groupby(\"year\")\r\n",
        "year2015=a.loc[a[\"year\"]==2015]\r\n",
        "monthlyaverage2015=year2015.groupby(\"month\").mean()\r\n",
        "year2016=a.loc[a[\"year\"]==2016]\r\n",
        "monthlyaverage2016=year2016.groupby(\"month\").mean()\r\n",
        "year2017=a.loc[a[\"year\"]==2017]\r\n",
        "monthlyaverage2017=year2017.groupby(\"month\").mean()\r\n",
        "year2018=a.loc[a[\"year\"]==2018]\r\n",
        "monthlyaverage2018=year2018.groupby(\"month\").mean()\r\n",
        "monthlyaverage2015.plot(y=\"Price_pl\",kind=\"line\")\r\n",
        "monthlyaverage2016.plot(y=\"Price_pl\",kind=\"line\")\r\n",
        "monthlyaverage2017.plot(y=\"Price_pl\",kind=\"line\")\r\n",
        "monthlyaverage2018.plot(y=\"Price_pl\",kind=\"line\")\r\n",
        "plt.show()\r\n",
        "\r\n",
        "#5.  Create  a  new  column  with  theseasonof  the  year,  set  it  as  a  secondary  index  andcalculate the average of every season (regardless of the year).\r\n",
        "SEASONS=np.array([\"\",\"Win\",\"Spr\",\"Sum\",\"Aut\"])\r\n",
        "season=np.array([SEASONS[int(math.floor((a.index[i]%12)/3)+1)] for i in range(len(a.index))])\r\n",
        "a[\"season\"]=season\r\n",
        "a[\"month\"]=a.index\r\n",
        "a=a.set_index([\"month\",\"season\"])\r\n",
        "print(a)"
      ],
      "execution_count": null,
      "outputs": []
    },
    {
      "cell_type": "code",
      "metadata": {
        "colab": {
          "base_uri": "https://localhost:8080/",
          "height": 1000
        },
        "id": "cyskUroZXz2K",
        "outputId": "532694f6-5967-4e45-edde-b5a67e90414b"
      },
      "source": [
        "#4    Pivot, aggregate and plot timeseries\r\n",
        "\r\n",
        "#1.  Import fileTREBdata.xlsas a pandas DataFrame.  Create the necessary columnstopivotand generate the table below with the value ofSales(hint:  use the split()function to split the MonthYear column to Month and Year).\r\n",
        "import numpy as np\r\n",
        "import pandas as pd\r\n",
        "import matplotlib.pyplot as plt\r\n",
        "import math\r\n",
        "a=pd.read_excel(\"/content/TREB_Data.xlsx\")\r\n",
        "a[\"MonthYear\"]=pd.to_datetime(a[\"MonthYear\"])\r\n",
        "a[\"month\"]=a[\"MonthYear\"].dt.month\r\n",
        "a[\"year\"]=a[\"MonthYear\"].dt.year\r\n",
        "a=a.drop([\"MonthYear\"],axis=1)\r\n",
        "year2013=a.loc[a[\"year\"]==2013]\r\n",
        "year2014=a.loc[a[\"year\"]==2014]\r\n",
        "year2015=a.loc[a[\"year\"]==2015]\r\n",
        "year2016=a.loc[a[\"year\"]==2016]\r\n",
        "year2017=a.loc[a[\"year\"]==2017]\r\n",
        "b=pd.DataFrame(np.array([year2013[\"Sales\"],year2014[\"Sales\"],year2015[\"Sales\"],year2016[\"Sales\"],year2017[\"Sales\"]]).T,index=year2013[\"month\"],columns=[[\"Year\",\"Year\",\"Year\",\"Year\",\"Year\"],[2013,2014,2015,2016,2017]])\r\n",
        "b.columns.names=[\"Sales\",\"\"]\r\n",
        "print(b)\r\n",
        "b.plot()\r\n",
        "plt.show()\r\n",
        "c=a.groupby([\"year\"]).sum()\r\n",
        "c.plot.bar(y=\"Sales\")\r\n",
        "plt.show()\r\n",
        "b.sum(axis=0).plot.bar()\r\n",
        "plt.show()"
      ],
      "execution_count": 9,
      "outputs": [
        {
          "output_type": "stream",
          "text": [
            "Sales  Year                            \n",
            "       2013   2014   2015   2016   2017\n",
            "month                                  \n",
            "1      4230   4103   4318   4640   5155\n",
            "2      5615   5696   6294   7582   7955\n",
            "3      7536   8052   8886  10260  11959\n",
            "4      9537   9660  11254  12016  11470\n",
            "5      9945  11013  11640  12789  10068\n",
            "6      8821  10132  11905  12725   7896\n",
            "7      8367   9152   9813   9929   5871\n",
            "8      7390   7568   7943   9748   6310\n",
            "9      7256   8001   8147   9828   6340\n",
            "10     7940   8512   8759   9715   7087\n",
            "11     6354   6475   7337   8503   7353\n",
            "12     4058   4418   4917   5305   4930\n"
          ],
          "name": "stdout"
        },
        {
          "output_type": "display_data",
          "data": {
            "image/png": "[encoded data removed]",
            "text/plain": [
              "<Figure size 432x288 with 1 Axes>"
            ]
          },
          "metadata": {
            "tags": [],
            "needs_background": "light"
          }
        },
        {
          "output_type": "display_data",
          "data": {
            "image/png": "[encoded data removed]",
            "text/plain": [
              "<Figure size 432x288 with 1 Axes>"
            ]
          },
          "metadata": {
            "tags": [],
            "needs_background": "light"
          }
        },
        {
          "output_type": "display_data",
          "data": {
            "image/png": "[encoded data removed]",
            "text/plain": [
              "<Figure size 432x288 with 1 Axes>"
            ]
          },
          "metadata": {
            "tags": [],
            "needs_background": "light"
          }
        }
      ]
    }
  ]
}